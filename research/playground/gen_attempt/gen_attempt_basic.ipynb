{
 "cells": [
  {
   "cell_type": "code",
   "execution_count": 4,
   "metadata": {},
   "outputs": [
    {
     "name": "stderr",
     "output_type": "stream",
     "text": [
      "2025-03-21 13:46:19,028 - root - INFO - ==================================================\n",
      "2025-03-21 13:46:19,030 - root - INFO - Logging session started\n",
      "2025-03-21 13:46:19,033 - root - INFO - Project root: /home/alex/Projects/ros2/codestral_ros2_gen\n",
      "2025-03-21 13:46:19,038 - root - INFO - Log file: /home/alex/Projects/ros2/codestral_ros2_gen/generation.log\n",
      "2025-03-21 13:46:19,039 - root - INFO - Logger level: INFO\n",
      "2025-03-21 13:46:19,039 - root - INFO - ==================================================\n",
      "2025-03-21 13:46:19,044 - root - INFO - Using config: {\n",
      "  \"model\": {\n",
      "    \"type\": \"codestral-latest\",\n",
      "    \"api_key\": \"YOUR_API_KEY_HERE\",\n",
      "    \"system_prompt\": \"You are a ROS2 expert who specializes in service implementations.\\nGenerate clean, efficient python code that follows ROS2 best practices.\\nFocus on proper error handling and input validation.\\n\",\n",
      "    \"parameters\": {\n",
      "      \"temperature\": 0.2\n",
      "    }\n",
      "  },\n",
      "  \"generation\": {\n",
      "    \"max_attempts\": 10,\n",
      "    \"evaluation_iterations\": 1\n",
      "  },\n",
      "  \"test\": {\n",
      "    \"ws_setup\": \"source /opt/ros/humble/setup.bash && colcon build --packages-select object_height && source install/setup.bash\",\n",
      "    \"node_command\": \"ros2 run object_height object_height_service\",\n",
      "    \"test_command\": \"pytest -q -s -x src/object_height/test/test_service_node.py\",\n",
      "    \"test_timeout\": 30\n",
      "  },\n",
      "  \"metrics\": {\n",
      "    \"metrics_file\": \"object_height_metrics.jsonl\"\n",
      "  },\n",
      "  \"output\": {\n",
      "    \"output_file\": \"src/object_height/object_height/service_node.py\"\n",
      "  },\n",
      "  \"input\": {\n",
      "    \"interface_file\": \"src/object_height/srv/ObjectHeight.srv\",\n",
      "    \"test_file\": \"src/object_height/test/test_service_node.py\"\n",
      "  }\n",
      "}\n",
      "2025-03-21 13:46:19,045 - root - INFO - Using workspace: /home/alex/Projects/ros2/ai_gen_ws\n",
      "2025-03-21 13:46:19,046 - root.mistral_client - INFO - Create Mistral client with provided API key from the environment variable\n"
     ]
    }
   ],
   "source": [
    "from pathlib import Path\n",
    "import os\n",
    "import json\n",
    "\n",
    "from codestral_ros2_gen import get_project_root, load_config\n",
    "from codestral_ros2_gen.generators.generation_attempt import GenerationAttempt\n",
    "from codestral_ros2_gen.models.mistral_client import MistralClient, ModelUsage\n",
    "from codestral_ros2_gen.utils.init_pkg_logger import init_pkg_logger\n",
    "\n",
    "logger = init_pkg_logger()\n",
    "\n",
    "test_config = load_config(get_project_root() / 'examples' / 'object_height' / 'config.yaml')\n",
    "logger.info(f'Using config: {json.dumps(test_config, indent=2)}')\n",
    "\n",
    "ws_path = Path(get_project_root()).parent / 'ai_gen_ws'\n",
    "logger.info(f'Using workspace: {ws_path}')\n",
    "\n",
    "\n",
    "client = MistralClient(config=test_config)\n"
   ]
  },
  {
   "cell_type": "code",
   "execution_count": 2,
   "metadata": {},
   "outputs": [],
   "source": [
    "def save_to_disk(code: str, output_path: Path) -> bool:\n",
    "    \"\"\"\n",
    "    Save the generated code to disk.\n",
    "\n",
    "    Args:\n",
    "        code (str): The code to save.\n",
    "        output_path (Path): The file path where the code should be written.\n",
    "\n",
    "    Returns:\n",
    "        bool: True if the file was saved successfully, False otherwise.\n",
    "    \"\"\"\n",
    "    try:\n",
    "        # Ensure the parent directory exists.\n",
    "        output_path.parent.mkdir(parents=True, exist_ok=True)\n",
    "        with open(output_path, \"w\") as f:\n",
    "            f.write(code)\n",
    "        logger.info(f\"Code saved to {output_path}\")\n",
    "        return True\n",
    "    except Exception as e:\n",
    "        logger.error(f\"Error saving code: {e}\")\n",
    "        return False"
   ]
  },
  {
   "cell_type": "code",
   "execution_count": 3,
   "metadata": {},
   "outputs": [
    {
     "name": "stderr",
     "output_type": "stream",
     "text": [
      "Shell process 14210 no longer exists\n",
      "Tests failed.\n"
     ]
    },
    {
     "name": "stdout",
     "output_type": "stream",
     "text": [
      "Success: False\n",
      "Metrics: metric             value\n",
      "-----------------  -------\n",
      "attempt_time       9.2\n",
      "success            False\n",
      "final_state        TEST\n",
      "tests_passed       0\n",
      "tests_failed       0\n",
      "tests_skipped      0\n",
      "prompt_tokens      47\n",
      "completion_tokens  1035\n",
      "total_tokens       1082\n"
     ]
    }
   ],
   "source": [
    "# Create a GenerationAttempt instance.\n",
    "attempt = GenerationAttempt(model=client, config=test_config)\n",
    "\n",
    "# Define a dummy output path.\n",
    "output_path = ws_path / \"dummy_generated_code.py\"\n",
    "\n",
    "# Change to the workspace directory.\n",
    "os.chdir(ws_path)\n",
    "\n",
    "# Run the generation attempt.\n",
    "success, metrics = attempt.run(output_path, \"Generate simple ros2 publisher on python\", save_to_disk)\n",
    "\n",
    "print(\"Success:\", success)\n",
    "print(\"Metrics:\", metrics)"
   ]
  }
 ],
 "metadata": {
  "kernelspec": {
   "display_name": "Python 3",
   "language": "python",
   "name": "python3"
  },
  "language_info": {
   "codemirror_mode": {
    "name": "ipython",
    "version": 3
   },
   "file_extension": ".py",
   "mimetype": "text/x-python",
   "name": "python",
   "nbconvert_exporter": "python",
   "pygments_lexer": "ipython3",
   "version": "3.10.12"
  }
 },
 "nbformat": 4,
 "nbformat_minor": 2
}
