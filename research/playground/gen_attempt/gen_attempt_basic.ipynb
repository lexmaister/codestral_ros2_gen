{
 "cells": [
  {
   "cell_type": "code",
   "execution_count": null,
   "metadata": {},
   "outputs": [],
   "source": [
    "from pathlib import Path\n",
    "import os\n",
    "import json\n",
    "\n",
    "from codestral_ros2_gen import logger, get_project_root, load_config\n",
    "from codestral_ros2_gen.generators.generation_attempt import GenerationAttempt\n",
    "from codestral_ros2_gen.models.mistral_client import MistralClient, ModelUsage\n",
    "\n",
    "# basic_config = load_config(get_config_path())\n",
    "\n",
    "test_config = load_config(get_project_root() / 'examples' / 'object_height' / 'config.yaml')\n",
    "logger.info(f'Using config: {json.dumps(test_config, indent=2)}')\n",
    "\n",
    "ws_path = Path(get_project_root()).parent / 'ai_gen_ws'\n",
    "logger.info(f'Using workspace: {ws_path}')\n",
    "\n",
    "\n",
    "client = MistralClient(config=test_config)\n"
   ]
  },
  {
   "cell_type": "code",
   "execution_count": null,
   "metadata": {},
   "outputs": [],
   "source": [
    "def save_to_disk(code: str, output_path: Path) -> bool:\n",
    "    \"\"\"\n",
    "    Save the generated code to disk.\n",
    "\n",
    "    Args:\n",
    "        code (str): The code to save.\n",
    "        output_path (Path): The file path where the code should be written.\n",
    "\n",
    "    Returns:\n",
    "        bool: True if the file was saved successfully, False otherwise.\n",
    "    \"\"\"\n",
    "    try:\n",
    "        # Ensure the parent directory exists.\n",
    "        output_path.parent.mkdir(parents=True, exist_ok=True)\n",
    "        with open(output_path, \"w\") as f:\n",
    "            f.write(code)\n",
    "        logger.info(f\"Code saved to {output_path}\")\n",
    "        return True\n",
    "    except Exception as e:\n",
    "        logger.error(f\"Error saving code: {e}\")\n",
    "        return False"
   ]
  },
  {
   "cell_type": "code",
   "execution_count": null,
   "metadata": {},
   "outputs": [],
   "source": [
    "# Create a GenerationAttempt instance.\n",
    "attempt = GenerationAttempt(model=client, config=test_config)\n",
    "\n",
    "# Define a dummy output path.\n",
    "output_path = ws_path / \"dummy_generated_code.py\"\n",
    "\n",
    "# Change to the workspace directory.\n",
    "os.chdir(ws_path)\n",
    "\n",
    "# Run the generation attempt.\n",
    "success, metrics = attempt.run(output_path, \"Generate simple ros2 publisher on python\", save_to_disk)\n",
    "\n",
    "print(\"Success:\", success)\n",
    "print(\"Metrics:\", metrics)"
   ]
  }
 ],
 "metadata": {
  "kernelspec": {
   "display_name": ".venv",
   "language": "python",
   "name": "python3"
  },
  "language_info": {
   "codemirror_mode": {
    "name": "ipython",
    "version": 3
   },
   "file_extension": ".py",
   "mimetype": "text/x-python",
   "name": "python",
   "nbconvert_exporter": "python",
   "pygments_lexer": "ipython3",
   "version": "3.10.12"
  }
 },
 "nbformat": 4,
 "nbformat_minor": 2
}
